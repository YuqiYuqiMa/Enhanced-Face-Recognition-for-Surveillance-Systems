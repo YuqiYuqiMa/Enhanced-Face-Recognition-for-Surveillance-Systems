{
 "cells": [
  {
   "cell_type": "code",
   "execution_count": null,
   "metadata": {},
   "outputs": [],
   "source": [
    "from google.colab import drive\n",
    "import warnings\n",
    "\n",
    "drive.mount('/content/drive')\n",
    "%cd  /content/drive/My\\ Drive/Folders/CMPE\\ 295"
   ]
  },
  {
   "cell_type": "code",
   "execution_count": 1,
   "metadata": {},
   "outputs": [],
   "source": [
    "import csv\n",
    "from collections import defaultdict\n",
    "import nltk\n",
    "from nltk.corpus import stopwords\n",
    "\n",
    "import numpy as np\n",
    "import pandas as pd\n",
    "from scipy.sparse import csr_matrix\n",
    "from sklearn.utils import shuffle"
   ]
  },
  {
   "cell_type": "code",
   "execution_count": 2,
   "metadata": {},
   "outputs": [],
   "source": [
    "words = []\n",
    "words_file = open('data/train.clabel.txt', 'r') \n",
    "for w in words_file.readlines():\n",
    "    words.append(w.strip())"
   ]
  },
  {
   "cell_type": "code",
   "execution_count": 3,
   "metadata": {},
   "outputs": [
    {
     "name": "stdout",
     "output_type": "stream",
     "text": [
      "total number of documents:  126373 \n",
      "\n",
      "1 :  rapid\n",
      "2 :  heartbeat\n",
      "3 :  forc\n",
      "4 :  thoma\n",
      "5 :  leav\n",
      "6 :  game\n",
      "7 :  star\n",
      "8 :  expect\n",
      "9 :  plai\n",
      "10 :  weekend\n"
     ]
    }
   ],
   "source": [
    "print(\"total number of documents: \", len(words), \"\\n\")\n",
    "\n",
    "for i in range(10):\n",
    "    print(i+1, \": \", words[i])"
   ]
  },
  {
   "cell_type": "code",
   "execution_count": 4,
   "metadata": {},
   "outputs": [
    {
     "name": "stdout",
     "output_type": "stream",
     "text": [
      "[52, 149, 227, 257, 326, 336, 386, 404, 617, 626, 726, 727, 868, 992, 1235, 1284, 1313, 1845, 1864, 2040, 2286, 2512, 2517, 2526, 2673, 2820, 3365, 3663, 3707, 4264, 4330, 4789, 5036, 5922, 5930, 6083, 6193, 7131, 7334, 7685, 8313, 9263, 9273, 11970, 13280, 14088, 14243, 15063, 15273, 16221, 19271, 19337, 19864, 20154, 23535, 25118, 27240, 27560, 28464, 28856, 29590, 32366, 32388, 33061, 34163, 36067, 37202, 37733, 37807, 38993, 44901, 45527, 47702, 49516, 51235, 51671, 51856, 55384, 60556, 79915, 80484, 81766, 82730, 94390, 94392, 95454, 96521, 97791, 100417, 103389, 106530, 109639, 110104, 120590, 120654, 121122, 124422]\n"
     ]
    }
   ],
   "source": [
    "stopw = stopwords.words('english')\n",
    "stopwords_ids = []\n",
    "\n",
    "for i in range(len(words)):\n",
    "    if words[i] in stopw:\n",
    "        stopwords_ids.append(i)\n",
    "        \n",
    "print(stopwords_ids)"
   ]
  },
  {
   "cell_type": "code",
   "execution_count": 2,
   "metadata": {},
   "outputs": [],
   "source": [
    "train = []\n",
    "max_id = 0\n",
    "open_file = open('data/train.dat.txt', 'r') \n",
    "\n",
    "lines = open_file.readlines()\n",
    "nrows = len(lines)\n",
    "ncols = 0 \n",
    "nnz = 0 \n",
    "\n",
    "for line in lines:\n",
    "    words = line.split(\" \")\n",
    "    nnz += round(len(words)/2)\n",
    "            \n",
    "val = np.zeros(nnz, dtype=np.float)\n",
    "ind = np.zeros(nnz, dtype=np.int)\n",
    "ptr = np.zeros(nrows+1, dtype=np.long)\n",
    "n = 0 \n",
    "\n",
    "for i in range(nrows):\n",
    "    words = lines[i].split(\" \")\n",
    "    for j in range(0, len(words), 2): \n",
    "        word_id = int(words[j])\n",
    "        count = float(words[j+1])\n",
    "        ncols = max(ncols, word_id)\n",
    "        \n",
    "        ind[n] = word_id - 1\n",
    "        val[n] = count\n",
    "        n += 1\n",
    "    ptr[i+1] = n \n",
    "\n",
    "mat = csr_matrix((val, ind, ptr), shape=(nrows, ncols), dtype=np.float)\n",
    "mat.sort_indices()"
   ]
  },
  {
   "cell_type": "code",
   "execution_count": 3,
   "metadata": {},
   "outputs": [
    {
     "data": {
      "text/plain": [
       "(8580, 126355)"
      ]
     },
     "execution_count": 3,
     "metadata": {},
     "output_type": "execute_result"
    }
   ],
   "source": [
    "mat.shape"
   ]
  },
  {
   "cell_type": "code",
   "execution_count": 4,
   "metadata": {},
   "outputs": [],
   "source": [
    "def find_clusters(mat, centers):\n",
    "    indices = []\n",
    "#     print(mat.shape, centers.shape)\n",
    "    sim = mat.dot(centers.T)\n",
    "  \n",
    "    for i in range(sim.shape[0]):\n",
    "        row = sim.getrow(i).toarray()[0].ravel()\n",
    "        indices.append(row.argsort()[-1] + 1)\n",
    "        \n",
    "    return indices\n",
    "\n",
    "\n",
    "def get_centers(mat, k, indices):\n",
    "    centers = []\n",
    "    for i in range(1, k+1):\n",
    "        check = [a for a, b in enumerate(indices) if b == i]\n",
    "        words = mat[check].toarray().mean(0)\n",
    "#         print(type(words), words)\n",
    "        if words.shape[0] > 1:\n",
    "            centers.append(words)\n",
    "            \n",
    "    return csr_matrix(centers)\n",
    "\n",
    "\n",
    "def kmeans(mat, k):\n",
    "    centers = shuffle(mat, random_state=0)[:k]\n",
    "    for _ in range(100): \n",
    "        indices = find_clusters(mat, centers)\n",
    "        centers = get_centers(mat, k, indices)        \n",
    "    return indices\n",
    "\n",
    "\n",
    "def bisect(mat, k):\n",
    "    clusters = [1] * mat.shape[0]\n",
    "    \n",
    "    for i in range(1, k):\n",
    "        data = [0] * (mat.shape[0] + 1)\n",
    "        record = []\n",
    "        temp = []\n",
    "\n",
    "        for j in range(mat.shape[0]): \n",
    "            if clusters[j] == 1:              \n",
    "                temp.append(mat[j].toarray()[0])\n",
    "                record.append(j)\n",
    "            else:\n",
    "                clusters[j] += 1\n",
    "                       \n",
    "        km_res = kmeans(csr_matrix(temp), k)\n",
    "        \n",
    "        for j in range(len(km_res)):\n",
    "            bi = km_res[j]\n",
    "            if bi == 2:\n",
    "                a = record[j]\n",
    "                clusters[a] = bi      \n",
    "            \n",
    "        for j in range(mat.shape[0]):  \n",
    "            a = clusters[j] - 1;\n",
    "            data[a] += 1\n",
    "        \n",
    "    return clusters\n"
   ]
  },
  {
   "cell_type": "code",
   "execution_count": null,
   "metadata": {},
   "outputs": [],
   "source": [
    "c = bisect(mat, 7)"
   ]
  },
  {
   "cell_type": "code",
   "execution_count": 29,
   "metadata": {},
   "outputs": [
    {
     "data": {
      "text/plain": [
       "8580"
      ]
     },
     "execution_count": 29,
     "metadata": {},
     "output_type": "execute_result"
    }
   ],
   "source": [
    "len(c)"
   ]
  },
  {
   "cell_type": "code",
   "execution_count": 16,
   "metadata": {},
   "outputs": [
    {
     "data": {
      "text/plain": [
       "4.688461538461539"
      ]
     },
     "execution_count": 16,
     "metadata": {},
     "output_type": "execute_result"
    }
   ],
   "source": [
    "sum(c)/len(c)"
   ]
  },
  {
   "cell_type": "code",
   "execution_count": 24,
   "metadata": {},
   "outputs": [],
   "source": [
    "def write_to_output(clusters):\n",
    "    open_file = open('format.dat.txt', 'w')\n",
    "    csv_writer = csv.writer(open_file)\n",
    "    csv_writer.writerow([\"DocumentID\", \"ClusterID\"])\n",
    "    for i in range(len(clusters)):\n",
    "        csv_writer.writerow([str(i+1), str(int(clusters[i]))])"
   ]
  },
  {
   "cell_type": "code",
   "execution_count": 25,
   "metadata": {},
   "outputs": [],
   "source": [
    "write_to_output(c)"
   ]
  },
  {
   "cell_type": "code",
   "execution_count": 5,
   "metadata": {},
   "outputs": [],
   "source": [
    "def sse(mat, clusters, k):\n",
    "    error = 0\n",
    "    for i in range(1, k+1):\n",
    "        group = [mat[j] for j in range(mat.shape[0]) if clusters[j] == i]\n",
    "        center = group.toarray().mean(0)\n",
    "        e = np.sum(np.linalg.norm(points-centroid, ord=2, axis=1))\n",
    "        print(\"k = \", k, \", sse = \", e)\n",
    "        error += e\n",
    "    return error"
   ]
  },
  {
   "cell_type": "code",
   "execution_count": null,
   "metadata": {},
   "outputs": [],
   "source": [
    "x = []\n",
    "y = []\n",
    "\n",
    "for k in range(3, 21, 2):\n",
    "    x.append(k)\n",
    "    clusters = bisect(mat, k)\n",
    "    y.append(mat, clusters, k)"
   ]
  },
  {
   "cell_type": "code",
   "execution_count": null,
   "metadata": {},
   "outputs": [],
   "source": []
  }
 ],
 "metadata": {
  "kernelspec": {
   "display_name": "Python 3",
   "language": "python",
   "name": "python3"
  },
  "language_info": {
   "codemirror_mode": {
    "name": "ipython",
    "version": 3
   },
   "file_extension": ".py",
   "mimetype": "text/x-python",
   "name": "python",
   "nbconvert_exporter": "python",
   "pygments_lexer": "ipython3",
   "version": "3.6.12"
  }
 },
 "nbformat": 4,
 "nbformat_minor": 4
}
