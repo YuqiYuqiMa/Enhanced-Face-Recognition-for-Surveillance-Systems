{
  "nbformat": 4,
  "nbformat_minor": 0,
  "metadata": {
    "kernelspec": {
      "display_name": "Python 3",
      "language": "python",
      "name": "python3"
    },
    "language_info": {
      "codemirror_mode": {
        "name": "ipython",
        "version": 3
      },
      "file_extension": ".py",
      "mimetype": "text/x-python",
      "name": "python",
      "nbconvert_exporter": "python",
      "pygments_lexer": "ipython3",
      "version": "3.6.12"
    },
    "colab": {
      "name": "hw2.ipynb",
      "provenance": [],
      "include_colab_link": true
    },
    "accelerator": "TPU"
  },
  "cells": [
    {
      "cell_type": "markdown",
      "metadata": {
        "id": "view-in-github",
        "colab_type": "text"
      },
      "source": [
        "<a href=\"https://colab.research.google.com/github/YuqiYuqiMa/Enhanced-Face-Recognition-for-Surveillance-Systems/blob/main/hw2.ipynb\" target=\"_parent\"><img src=\"https://colab.research.google.com/assets/colab-badge.svg\" alt=\"Open In Colab\"/></a>"
      ]
    },
    {
      "cell_type": "code",
      "metadata": {
        "id": "OzTMR8tsKP6H",
        "outputId": "30141b57-cbf8-4510-e028-245e01c7bfdc",
        "colab": {
          "base_uri": "https://localhost:8080/"
        }
      },
      "source": [
        "from google.colab import drive\n",
        "import warnings\n",
        "\n",
        "drive.mount('/content/drive')\n",
        "%cd  /content/drive/My\\ Drive/CMPE\\ 295A"
      ],
      "execution_count": 1,
      "outputs": [
        {
          "output_type": "stream",
          "text": [
            "Mounted at /content/drive\n",
            "/content/drive/My Drive/CMPE 295A\n"
          ],
          "name": "stdout"
        }
      ]
    },
    {
      "cell_type": "code",
      "metadata": {
        "id": "gxacR75sKP6R"
      },
      "source": [
        "import csv\n",
        "from collections import defaultdict\n",
        "import nltk\n",
        "from nltk.corpus import stopwords\n",
        "\n",
        "import numpy as np\n",
        "import pandas as pd\n",
        "from scipy.sparse import csr_matrix\n",
        "from sklearn.utils import shuffle"
      ],
      "execution_count": 2,
      "outputs": []
    },
    {
      "cell_type": "code",
      "metadata": {
        "id": "tTIy8EojKP6R"
      },
      "source": [
        "words = []\n",
        "words_file = open('data/train.clabel.txt', 'r') \n",
        "for w in words_file.readlines():\n",
        "    words.append(w.strip())"
      ],
      "execution_count": 9,
      "outputs": []
    },
    {
      "cell_type": "code",
      "metadata": {
        "id": "nUUrbLAqKP6S",
        "outputId": "a27e6600-e07c-4c6e-8f6b-9453e9f79cfd"
      },
      "source": [
        "print(\"total number of documents: \", len(words), \"\\n\")\n",
        "\n",
        "for i in range(10):\n",
        "    print(i+1, \": \", words[i])"
      ],
      "execution_count": null,
      "outputs": [
        {
          "output_type": "stream",
          "text": [
            "total number of documents:  126373 \n",
            "\n",
            "1 :  rapid\n",
            "2 :  heartbeat\n",
            "3 :  forc\n",
            "4 :  thoma\n",
            "5 :  leav\n",
            "6 :  game\n",
            "7 :  star\n",
            "8 :  expect\n",
            "9 :  plai\n",
            "10 :  weekend\n"
          ],
          "name": "stdout"
        }
      ]
    },
    {
      "cell_type": "code",
      "metadata": {
        "id": "hr2iZHvUKP6T",
        "outputId": "b1b153b8-2fbe-4158-c254-5642036ed8ae"
      },
      "source": [
        "stopw = stopwords.words('english')\n",
        "stopwords_ids = []\n",
        "\n",
        "for i in range(len(words)):\n",
        "    if words[i] in stopw:\n",
        "        stopwords_ids.append(i)\n",
        "        \n",
        "print(stopwords_ids)"
      ],
      "execution_count": null,
      "outputs": [
        {
          "output_type": "stream",
          "text": [
            "[52, 149, 227, 257, 326, 336, 386, 404, 617, 626, 726, 727, 868, 992, 1235, 1284, 1313, 1845, 1864, 2040, 2286, 2512, 2517, 2526, 2673, 2820, 3365, 3663, 3707, 4264, 4330, 4789, 5036, 5922, 5930, 6083, 6193, 7131, 7334, 7685, 8313, 9263, 9273, 11970, 13280, 14088, 14243, 15063, 15273, 16221, 19271, 19337, 19864, 20154, 23535, 25118, 27240, 27560, 28464, 28856, 29590, 32366, 32388, 33061, 34163, 36067, 37202, 37733, 37807, 38993, 44901, 45527, 47702, 49516, 51235, 51671, 51856, 55384, 60556, 79915, 80484, 81766, 82730, 94390, 94392, 95454, 96521, 97791, 100417, 103389, 106530, 109639, 110104, 120590, 120654, 121122, 124422]\n"
          ],
          "name": "stdout"
        }
      ]
    },
    {
      "cell_type": "code",
      "metadata": {
        "id": "CHqZsH7uKP6U"
      },
      "source": [
        "train = []\n",
        "max_id = 0\n",
        "open_file = open('data/train.dat.txt', 'r') \n",
        "\n",
        "lines = open_file.readlines()\n",
        "nrows = len(lines)\n",
        "ncols = 0 \n",
        "nnz = 0 \n",
        "\n",
        "for line in lines:\n",
        "    words = line.split(\" \")\n",
        "    nnz += round(len(words)/2)\n",
        "            \n",
        "val = np.zeros(nnz, dtype=np.float)\n",
        "ind = np.zeros(nnz, dtype=np.int)\n",
        "ptr = np.zeros(nrows+1, dtype=np.long)\n",
        "n = 0 \n",
        "\n",
        "for i in range(nrows):\n",
        "    words = lines[i].split(\" \")\n",
        "    for j in range(0, len(words), 2): \n",
        "        word_id = int(words[j])\n",
        "        count = float(words[j+1])\n",
        "        ncols = max(ncols, word_id)\n",
        "        \n",
        "        ind[n] = word_id - 1\n",
        "        val[n] = count\n",
        "        n += 1\n",
        "    ptr[i+1] = n \n",
        "\n",
        "mat = csr_matrix((val, ind, ptr), shape=(nrows, ncols), dtype=np.float)\n",
        "mat.sort_indices()"
      ],
      "execution_count": 3,
      "outputs": []
    },
    {
      "cell_type": "code",
      "metadata": {
        "id": "9maZy0CPKP6U",
        "outputId": "ac63803c-c5ed-4532-ad37-8e08e854593a",
        "colab": {
          "base_uri": "https://localhost:8080/"
        }
      },
      "source": [
        "mat.shape"
      ],
      "execution_count": 6,
      "outputs": [
        {
          "output_type": "execute_result",
          "data": {
            "text/plain": [
              "(8580, 126355)"
            ]
          },
          "metadata": {
            "tags": []
          },
          "execution_count": 6
        }
      ]
    },
    {
      "cell_type": "code",
      "metadata": {
        "id": "HOAPqtWCKP6V"
      },
      "source": [
        "def find_clusters(mat, centers):\n",
        "    indices = []\n",
        "#     print(mat.shape, centers.shape)\n",
        "    sim = mat.dot(centers.T)\n",
        "  \n",
        "    for i in range(sim.shape[0]):\n",
        "        row = sim.getrow(i).toarray()[0].ravel()\n",
        "        indices.append(row.argsort()[-1] + 1)\n",
        "        \n",
        "    return indices\n",
        "\n",
        "\n",
        "def get_centers(mat, k, indices):\n",
        "    centers = []\n",
        "    for i in range(1, k+1):\n",
        "        check = [a for a, b in enumerate(indices) if b == i]\n",
        "        words = mat[check].toarray().mean(0)\n",
        "#         print(type(words), words)\n",
        "        if words.shape[0] > 1:\n",
        "            centers.append(words)\n",
        "            \n",
        "    return csr_matrix(centers)\n",
        "\n",
        "\n",
        "def kmeans(mat, k):\n",
        "    centers = shuffle(mat, random_state=0)[:k]\n",
        "    for _ in range(100): \n",
        "        indices = find_clusters(mat, centers)\n",
        "        centers = get_centers(mat, k, indices)        \n",
        "    return indices\n",
        "\n",
        "\n",
        "def bisect(mat, k):\n",
        "    clusters = [1] * mat.shape[0]\n",
        "    \n",
        "    for i in range(1, k):\n",
        "        data = [0] * (mat.shape[0] + 1)\n",
        "        record = []\n",
        "        temp = []\n",
        "\n",
        "        for j in range(mat.shape[0]): \n",
        "            if clusters[j] == 1:              \n",
        "                temp.append(mat[j].toarray()[0])\n",
        "                record.append(j)\n",
        "            else:\n",
        "                clusters[j] += 1\n",
        "                       \n",
        "        km_res = kmeans(csr_matrix(temp), k)\n",
        "        \n",
        "        for j in range(len(km_res)):\n",
        "            bi = km_res[j]\n",
        "            if bi == 2:\n",
        "                a = record[j]\n",
        "                clusters[a] = bi      \n",
        "            \n",
        "        for j in range(mat.shape[0]):  \n",
        "            a = clusters[j] - 1;\n",
        "            data[a] += 1\n",
        "        \n",
        "    return clusters\n"
      ],
      "execution_count": 4,
      "outputs": []
    },
    {
      "cell_type": "code",
      "metadata": {
        "id": "-UiwfVruKP6V"
      },
      "source": [
        "c = bisect(mat, 7)"
      ],
      "execution_count": null,
      "outputs": []
    },
    {
      "cell_type": "code",
      "metadata": {
        "id": "VXdv4sMAKP6V"
      },
      "source": [
        "len(c)"
      ],
      "execution_count": null,
      "outputs": []
    },
    {
      "cell_type": "code",
      "metadata": {
        "id": "fJbqM5HDKP6W"
      },
      "source": [
        "sum(c)/len(c)"
      ],
      "execution_count": null,
      "outputs": []
    },
    {
      "cell_type": "code",
      "metadata": {
        "id": "2GW82SVkKP6W"
      },
      "source": [
        "def write_to_output(clusters):\n",
        "    open_file = open('format.dat.txt', 'w')\n",
        "    csv_writer = csv.writer(open_file)\n",
        "    csv_writer.writerow([\"DocumentID\", \"ClusterID\"])\n",
        "    for i in range(len(clusters)):\n",
        "        csv_writer.writerow([str(i+1), str(int(clusters[i]))])"
      ],
      "execution_count": null,
      "outputs": []
    },
    {
      "cell_type": "code",
      "metadata": {
        "id": "G6miZ6g5KP6X"
      },
      "source": [
        "write_to_output(c)"
      ],
      "execution_count": null,
      "outputs": []
    },
    {
      "cell_type": "code",
      "metadata": {
        "id": "Jf9A_OmnKP6X"
      },
      "source": [
        "def sse(mat, clusters, k):\n",
        "    error = 0\n",
        "    for i in range(1, k+1):\n",
        "        group = [mat[j] for j in range(mat.shape[0]) if clusters[j] == i]\n",
        "        center = group.toarray().mean(0)\n",
        "        e = np.sum(np.linalg.norm(points-centroid, ord=2, axis=1))\n",
        "        print(\"k = \", k, \", sse = \", e)\n",
        "        error += e\n",
        "    return error"
      ],
      "execution_count": null,
      "outputs": []
    },
    {
      "cell_type": "code",
      "metadata": {
        "id": "7lD-uirfKP6X"
      },
      "source": [
        "x = []\n",
        "y = []\n",
        "\n",
        "for k in range(3, 21, 2):\n",
        "    x.append(k)\n",
        "    clusters = bisect(mat, k)\n",
        "    y.append(mat, clusters, k)"
      ],
      "execution_count": null,
      "outputs": []
    },
    {
      "cell_type": "code",
      "metadata": {
        "id": "bcydWeVKKP6X"
      },
      "source": [
        ""
      ],
      "execution_count": null,
      "outputs": []
    }
  ]
}